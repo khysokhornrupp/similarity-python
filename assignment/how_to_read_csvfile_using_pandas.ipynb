{
 "cells": [
  {
   "cell_type": "code",
   "execution_count": 1,
   "metadata": {},
   "outputs": [],
   "source": [
    "# Import pandas library\n",
    "import pandas as pd\n",
    "import texthero as th"
   ]
  },
  {
   "cell_type": "code",
   "execution_count": 2,
   "metadata": {},
   "outputs": [],
   "source": [
    "# Read Dataset\n",
    "filename = '/home/sokhorn/sokhorn/Rupp/data_mining/DataSet/newsCorpora_with_header.csv'\n",
    "df = pd.read_csv(filename, encoding=\"utf8\", sep='\\t', quotechar=\" \", engine='python', usecols=[\"TITLE\", \"CATEGORY\"])"
   ]
  },
  {
   "cell_type": "code",
   "execution_count": 8,
   "metadata": {},
   "outputs": [
    {
     "data": {
      "text/html": [
       "<div>\n",
       "<style scoped>\n",
       "    .dataframe tbody tr th:only-of-type {\n",
       "        vertical-align: middle;\n",
       "    }\n",
       "\n",
       "    .dataframe tbody tr th {\n",
       "        vertical-align: top;\n",
       "    }\n",
       "\n",
       "    .dataframe thead th {\n",
       "        text-align: right;\n",
       "    }\n",
       "</style>\n",
       "<table border=\"1\" class=\"dataframe\">\n",
       "  <thead>\n",
       "    <tr style=\"text-align: right;\">\n",
       "      <th></th>\n",
       "      <th>TITLE</th>\n",
       "      <th>CATEGORY</th>\n",
       "    </tr>\n",
       "  </thead>\n",
       "  <tbody>\n",
       "    <tr>\n",
       "      <th>0</th>\n",
       "      <td>fed official says weak data caused weather slo...</td>\n",
       "      <td>b</td>\n",
       "    </tr>\n",
       "    <tr>\n",
       "      <th>1</th>\n",
       "      <td>fed charles plosser sees high bar change pace ...</td>\n",
       "      <td>b</td>\n",
       "    </tr>\n",
       "    <tr>\n",
       "      <th>2</th>\n",
       "      <td>us open stocks fall fed official hints acceler...</td>\n",
       "      <td>b</td>\n",
       "    </tr>\n",
       "    <tr>\n",
       "      <th>3</th>\n",
       "      <td>fed risks falling behind curve charles plosser...</td>\n",
       "      <td>b</td>\n",
       "    </tr>\n",
       "    <tr>\n",
       "      <th>4</th>\n",
       "      <td>fed plosser nasty weather curbed job growth</td>\n",
       "      <td>b</td>\n",
       "    </tr>\n",
       "    <tr>\n",
       "      <th>...</th>\n",
       "      <td>...</td>\n",
       "      <td>...</td>\n",
       "    </tr>\n",
       "    <tr>\n",
       "      <th>422932</th>\n",
       "      <td>surgeons remove year old rib rebuild damaged t...</td>\n",
       "      <td>m</td>\n",
       "    </tr>\n",
       "    <tr>\n",
       "      <th>422933</th>\n",
       "      <td>boy surgery esophagus battery burns hole throat</td>\n",
       "      <td>m</td>\n",
       "    </tr>\n",
       "    <tr>\n",
       "      <th>422934</th>\n",
       "      <td>child swallowed battery reconstructive surgery...</td>\n",
       "      <td>m</td>\n",
       "    </tr>\n",
       "    <tr>\n",
       "      <th>422935</th>\n",
       "      <td>phoenix boy undergoes surgery repair throat da...</td>\n",
       "      <td>m</td>\n",
       "    </tr>\n",
       "    <tr>\n",
       "      <th>422936</th>\n",
       "      <td>phoenix boy undergoes surgery repair throat da...</td>\n",
       "      <td>m</td>\n",
       "    </tr>\n",
       "  </tbody>\n",
       "</table>\n",
       "<p>422937 rows × 2 columns</p>\n",
       "</div>"
      ],
      "text/plain": [
       "                                                    TITLE CATEGORY\n",
       "0       fed official says weak data caused weather slo...        b\n",
       "1       fed charles plosser sees high bar change pace ...        b\n",
       "2       us open stocks fall fed official hints acceler...        b\n",
       "3       fed risks falling behind curve charles plosser...        b\n",
       "4             fed plosser nasty weather curbed job growth        b\n",
       "...                                                   ...      ...\n",
       "422932  surgeons remove year old rib rebuild damaged t...        m\n",
       "422933    boy surgery esophagus battery burns hole throat        m\n",
       "422934  child swallowed battery reconstructive surgery...        m\n",
       "422935  phoenix boy undergoes surgery repair throat da...        m\n",
       "422936  phoenix boy undergoes surgery repair throat da...        m\n",
       "\n",
       "[422937 rows x 2 columns]"
      ]
     },
     "execution_count": 8,
     "metadata": {},
     "output_type": "execute_result"
    }
   ],
   "source": [
    "# Display the first 5 rows of the data\n",
    "df"
   ]
  },
  {
   "cell_type": "code",
   "execution_count": 4,
   "metadata": {},
   "outputs": [
    {
     "name": "stdout",
     "output_type": "stream",
     "text": [
      "possible categories ['b', 'm', 'e', 't']\n"
     ]
    }
   ],
   "source": [
    "# Print out the the class labels\n",
    "labels = list(set(df[\"CATEGORY\"]))\n",
    "print('possible categories',labels)"
   ]
  },
  {
   "cell_type": "code",
   "execution_count": 5,
   "metadata": {},
   "outputs": [
    {
     "name": "stdout",
     "output_type": "stream",
     "text": [
      "number of  b  news 115967\n",
      "number of  m  news 45639\n",
      "number of  e  news 152828\n",
      "number of  t  news 108503\n"
     ]
    }
   ],
   "source": [
    "# Count number of news articles per category\n",
    "for l in labels:\n",
    "    print('number of ',l,' news',len(df.loc[df['CATEGORY'] == l]))"
   ]
  },
  {
   "cell_type": "code",
   "execution_count": 6,
   "metadata": {},
   "outputs": [],
   "source": [
    "df.TITLE  = th.clean(df.TITLE)"
   ]
  },
  {
   "cell_type": "code",
   "execution_count": 7,
   "metadata": {},
   "outputs": [
    {
     "data": {
      "text/html": [
       "<div>\n",
       "<style scoped>\n",
       "    .dataframe tbody tr th:only-of-type {\n",
       "        vertical-align: middle;\n",
       "    }\n",
       "\n",
       "    .dataframe tbody tr th {\n",
       "        vertical-align: top;\n",
       "    }\n",
       "\n",
       "    .dataframe thead th {\n",
       "        text-align: right;\n",
       "    }\n",
       "</style>\n",
       "<table border=\"1\" class=\"dataframe\">\n",
       "  <thead>\n",
       "    <tr style=\"text-align: right;\">\n",
       "      <th></th>\n",
       "      <th>TITLE</th>\n",
       "      <th>CATEGORY</th>\n",
       "    </tr>\n",
       "  </thead>\n",
       "  <tbody>\n",
       "    <tr>\n",
       "      <th>0</th>\n",
       "      <td>fed official says weak data caused weather slo...</td>\n",
       "      <td>b</td>\n",
       "    </tr>\n",
       "    <tr>\n",
       "      <th>1</th>\n",
       "      <td>fed charles plosser sees high bar change pace ...</td>\n",
       "      <td>b</td>\n",
       "    </tr>\n",
       "    <tr>\n",
       "      <th>2</th>\n",
       "      <td>us open stocks fall fed official hints acceler...</td>\n",
       "      <td>b</td>\n",
       "    </tr>\n",
       "    <tr>\n",
       "      <th>3</th>\n",
       "      <td>fed risks falling behind curve charles plosser...</td>\n",
       "      <td>b</td>\n",
       "    </tr>\n",
       "    <tr>\n",
       "      <th>4</th>\n",
       "      <td>fed plosser nasty weather curbed job growth</td>\n",
       "      <td>b</td>\n",
       "    </tr>\n",
       "    <tr>\n",
       "      <th>...</th>\n",
       "      <td>...</td>\n",
       "      <td>...</td>\n",
       "    </tr>\n",
       "    <tr>\n",
       "      <th>422932</th>\n",
       "      <td>surgeons remove year old rib rebuild damaged t...</td>\n",
       "      <td>m</td>\n",
       "    </tr>\n",
       "    <tr>\n",
       "      <th>422933</th>\n",
       "      <td>boy surgery esophagus battery burns hole throat</td>\n",
       "      <td>m</td>\n",
       "    </tr>\n",
       "    <tr>\n",
       "      <th>422934</th>\n",
       "      <td>child swallowed battery reconstructive surgery...</td>\n",
       "      <td>m</td>\n",
       "    </tr>\n",
       "    <tr>\n",
       "      <th>422935</th>\n",
       "      <td>phoenix boy undergoes surgery repair throat da...</td>\n",
       "      <td>m</td>\n",
       "    </tr>\n",
       "    <tr>\n",
       "      <th>422936</th>\n",
       "      <td>phoenix boy undergoes surgery repair throat da...</td>\n",
       "      <td>m</td>\n",
       "    </tr>\n",
       "  </tbody>\n",
       "</table>\n",
       "<p>422937 rows × 2 columns</p>\n",
       "</div>"
      ],
      "text/plain": [
       "                                                    TITLE CATEGORY\n",
       "0       fed official says weak data caused weather slo...        b\n",
       "1       fed charles plosser sees high bar change pace ...        b\n",
       "2       us open stocks fall fed official hints acceler...        b\n",
       "3       fed risks falling behind curve charles plosser...        b\n",
       "4             fed plosser nasty weather curbed job growth        b\n",
       "...                                                   ...      ...\n",
       "422932  surgeons remove year old rib rebuild damaged t...        m\n",
       "422933    boy surgery esophagus battery burns hole throat        m\n",
       "422934  child swallowed battery reconstructive surgery...        m\n",
       "422935  phoenix boy undergoes surgery repair throat da...        m\n",
       "422936  phoenix boy undergoes surgery repair throat da...        m\n",
       "\n",
       "[422937 rows x 2 columns]"
      ]
     },
     "execution_count": 7,
     "metadata": {},
     "output_type": "execute_result"
    }
   ],
   "source": [
    "df"
   ]
  }
 ],
 "metadata": {
  "interpreter": {
   "hash": "31f2aee4e71d21fbe5cf8b01ff0e069b9275f58929596ceb00d14d90e3e16cd6"
  },
  "kernelspec": {
   "display_name": "Python 3.6.10 64-bit",
   "language": "python",
   "name": "python3"
  },
  "language_info": {
   "codemirror_mode": {
    "name": "ipython",
    "version": 3
   },
   "file_extension": ".py",
   "mimetype": "text/x-python",
   "name": "python",
   "nbconvert_exporter": "python",
   "pygments_lexer": "ipython3",
   "version": "3.8.10"
  }
 },
 "nbformat": 4,
 "nbformat_minor": 2
}
